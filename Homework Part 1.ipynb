{
 "cells": [
  {
   "cell_type": "markdown",
   "metadata": {},
   "source": [
    "## Homework 1"
   ]
  },
  {
   "cell_type": "markdown",
   "metadata": {},
   "source": [
    "a) How many Vendors are used in each country?\n",
    "\n",
    "b) What is the average number of Developers in all the repositories and What is the average number of Repositories in all the Projects?\n",
    "\n",
    "c) Which are the Top 3 Suppliers in terms of Billable Coding Effort (CE) Delivered per developer?\n",
    "\n",
    "d) Which is the Project with a maximum number of Billable CE hours per day delivered per developer?\n",
    "\n",
    "e) What is the difference on the total Actual CE delivered between July and August in Country 17?\n",
    "\n",
    "f) What is the total number of developers in each one of the last 3 months for Vendor-002?\n",
    "\n",
    "g) What Percentage of the total projects working with Java Files?\n",
    "\n",
    "h) What is the most common task type in Repository 642?"
   ]
  },
  {
   "cell_type": "markdown",
   "metadata": {},
   "source": [
    "## a) What is the most common task type in Repository 642?"
   ]
  },
  {
   "cell_type": "code",
   "execution_count": 1,
   "metadata": {
    "collapsed": true
   },
   "outputs": [],
   "source": [
    "import pandas as pd\n",
    "import numpy as np\n",
    "import matplotlib.pyplot as plt\n",
    "\n",
    "calendar=pd.read_csv('Calendar.csv')\n",
    "filetype=pd.read_csv('FileType.csv')\n",
    "task=pd.read_csv('Task.csv')\n",
    "universe=pd.read_csv('Universe.csv')"
   ]
  },
  {
   "cell_type": "code",
   "execution_count": 115,
   "metadata": {
    "collapsed": true
   },
   "outputs": [],
   "source": [
    "import warnings\n",
    "warnings.filterwarnings(\"ignore\")\n",
    "%matplotlib inline"
   ]
  },
  {
   "cell_type": "markdown",
   "metadata": {},
   "source": [
    "### First let's check the InfraID corresponding to Repository 642"
   ]
  },
  {
   "cell_type": "code",
   "execution_count": 2,
   "metadata": {},
   "outputs": [
    {
     "data": {
      "text/html": [
       "<div>\n",
       "<style>\n",
       "    .dataframe thead tr:only-child th {\n",
       "        text-align: right;\n",
       "    }\n",
       "\n",
       "    .dataframe thead th {\n",
       "        text-align: left;\n",
       "    }\n",
       "\n",
       "    .dataframe tbody tr th {\n",
       "        vertical-align: top;\n",
       "    }\n",
       "</style>\n",
       "<table border=\"1\" class=\"dataframe\">\n",
       "  <thead>\n",
       "    <tr style=\"text-align: right;\">\n",
       "      <th></th>\n",
       "      <th>Enterprise</th>\n",
       "      <th>OrgName</th>\n",
       "      <th>Project</th>\n",
       "      <th>Collection</th>\n",
       "      <th>InfraId</th>\n",
       "      <th>Repository</th>\n",
       "      <th>Type</th>\n",
       "    </tr>\n",
       "  </thead>\n",
       "  <tbody>\n",
       "    <tr>\n",
       "      <th>7312</th>\n",
       "      <td>Client X</td>\n",
       "      <td>Org E</td>\n",
       "      <td>Project 164</td>\n",
       "      <td>Collection 426</td>\n",
       "      <td>41583</td>\n",
       "      <td>Repo 642</td>\n",
       "      <td>Subversion</td>\n",
       "    </tr>\n",
       "  </tbody>\n",
       "</table>\n",
       "</div>"
      ],
      "text/plain": [
       "     Enterprise OrgName      Project      Collection  InfraId Repository  \\\n",
       "7312   Client X   Org E  Project 164  Collection 426    41583   Repo 642   \n",
       "\n",
       "            Type  \n",
       "7312  Subversion  "
      ]
     },
     "execution_count": 2,
     "metadata": {},
     "output_type": "execute_result"
    }
   ],
   "source": [
    "universe[universe['Repository']=='Repo 642']"
   ]
  },
  {
   "cell_type": "markdown",
   "metadata": {},
   "source": [
    "### From the above query result, we can get the InfraID corresponding to Repo 642, using InfraID= 41583, we can get the most common task type in Repository 642"
   ]
  },
  {
   "cell_type": "code",
   "execution_count": 3,
   "metadata": {},
   "outputs": [
    {
     "data": {
      "text/html": [
       "<div>\n",
       "<style>\n",
       "    .dataframe thead tr:only-child th {\n",
       "        text-align: right;\n",
       "    }\n",
       "\n",
       "    .dataframe thead th {\n",
       "        text-align: left;\n",
       "    }\n",
       "\n",
       "    .dataframe tbody tr th {\n",
       "        vertical-align: top;\n",
       "    }\n",
       "</style>\n",
       "<table border=\"1\" class=\"dataframe\">\n",
       "  <thead>\n",
       "    <tr style=\"text-align: right;\">\n",
       "      <th></th>\n",
       "      <th>Task Type</th>\n",
       "    </tr>\n",
       "  </thead>\n",
       "  <tbody>\n",
       "    <tr>\n",
       "      <th>null</th>\n",
       "      <td>107</td>\n",
       "    </tr>\n",
       "    <tr>\n",
       "      <th>Improvement</th>\n",
       "      <td>31</td>\n",
       "    </tr>\n",
       "    <tr>\n",
       "      <th>Bug</th>\n",
       "      <td>6</td>\n",
       "    </tr>\n",
       "    <tr>\n",
       "      <th>New Feature</th>\n",
       "      <td>4</td>\n",
       "    </tr>\n",
       "    <tr>\n",
       "      <th>Task</th>\n",
       "      <td>3</td>\n",
       "    </tr>\n",
       "  </tbody>\n",
       "</table>\n",
       "</div>"
      ],
      "text/plain": [
       "             Task Type\n",
       "null               107\n",
       "Improvement         31\n",
       "Bug                  6\n",
       "New Feature          4\n",
       "Task                 3"
      ]
     },
     "execution_count": 3,
     "metadata": {},
     "output_type": "execute_result"
    }
   ],
   "source": [
    "filtered_data=task[task['InfraId']==41583]\n",
    "filtered_data=pd.DataFrame(filtered_data['Task Type'].value_counts())\n",
    "filtered_data"
   ]
  },
  {
   "cell_type": "code",
   "execution_count": 122,
   "metadata": {},
   "outputs": [
    {
     "data": {
      "image/png": "[encoded data removed]",
      "text/plain": [
       "<matplotlib.figure.Figure at 0x1504e685ac8>"
      ]
     },
     "metadata": {},
     "output_type": "display_data"
    }
   ],
   "source": [
    "plt.rcdefaults()\n",
    " \n",
    "Tasks = ('Null','Improvement', 'Bug', 'New Feature','Task')\n",
    "y_pos = np.arange(len(Tasks))\n",
    "Task_number = [107,31,6,4,3]\n",
    " \n",
    "plt.bar(y_pos,Task_number, align='center', alpha=0.5)\n",
    "plt.xticks(y_pos, Tasks)\n",
    "plt.ylabel('Count')\n",
    "plt.title('Task Type')\n",
    " \n",
    "plt.show()"
   ]
  },
  {
   "cell_type": "markdown",
   "metadata": {},
   "source": [
    "### From the above result, we can understand that the most common Task Type is 'Improvement'."
   ]
  },
  {
   "cell_type": "markdown",
   "metadata": {},
   "source": [
    "## b) How many Vendors are used in each country?"
   ]
  },
  {
   "cell_type": "code",
   "execution_count": 4,
   "metadata": {},
   "outputs": [
    {
     "data": {
      "text/html": [
       "<div>\n",
       "<style>\n",
       "    .dataframe thead tr:only-child th {\n",
       "        text-align: right;\n",
       "    }\n",
       "\n",
       "    .dataframe thead th {\n",
       "        text-align: left;\n",
       "    }\n",
       "\n",
       "    .dataframe tbody tr th {\n",
       "        vertical-align: top;\n",
       "    }\n",
       "</style>\n",
       "<table border=\"1\" class=\"dataframe\">\n",
       "  <thead>\n",
       "    <tr style=\"text-align: right;\">\n",
       "      <th></th>\n",
       "      <th>Country</th>\n",
       "      <th>Number of Vendors</th>\n",
       "    </tr>\n",
       "  </thead>\n",
       "  <tbody>\n",
       "    <tr>\n",
       "      <th>0</th>\n",
       "      <td>Country 1</td>\n",
       "      <td>1</td>\n",
       "    </tr>\n",
       "    <tr>\n",
       "      <th>1</th>\n",
       "      <td>Country 10</td>\n",
       "      <td>1</td>\n",
       "    </tr>\n",
       "    <tr>\n",
       "      <th>2</th>\n",
       "      <td>Country 11</td>\n",
       "      <td>1</td>\n",
       "    </tr>\n",
       "    <tr>\n",
       "      <th>3</th>\n",
       "      <td>Country 12</td>\n",
       "      <td>9</td>\n",
       "    </tr>\n",
       "    <tr>\n",
       "      <th>4</th>\n",
       "      <td>Country 13</td>\n",
       "      <td>1</td>\n",
       "    </tr>\n",
       "    <tr>\n",
       "      <th>5</th>\n",
       "      <td>Country 14</td>\n",
       "      <td>1</td>\n",
       "    </tr>\n",
       "    <tr>\n",
       "      <th>6</th>\n",
       "      <td>Country 15</td>\n",
       "      <td>8</td>\n",
       "    </tr>\n",
       "    <tr>\n",
       "      <th>7</th>\n",
       "      <td>Country 16</td>\n",
       "      <td>13</td>\n",
       "    </tr>\n",
       "    <tr>\n",
       "      <th>8</th>\n",
       "      <td>Country 17</td>\n",
       "      <td>19</td>\n",
       "    </tr>\n",
       "    <tr>\n",
       "      <th>9</th>\n",
       "      <td>Country 2</td>\n",
       "      <td>1</td>\n",
       "    </tr>\n",
       "    <tr>\n",
       "      <th>10</th>\n",
       "      <td>Country 3</td>\n",
       "      <td>1</td>\n",
       "    </tr>\n",
       "    <tr>\n",
       "      <th>11</th>\n",
       "      <td>Country 4</td>\n",
       "      <td>7</td>\n",
       "    </tr>\n",
       "    <tr>\n",
       "      <th>12</th>\n",
       "      <td>Country 5</td>\n",
       "      <td>8</td>\n",
       "    </tr>\n",
       "    <tr>\n",
       "      <th>13</th>\n",
       "      <td>Country 6</td>\n",
       "      <td>1</td>\n",
       "    </tr>\n",
       "    <tr>\n",
       "      <th>14</th>\n",
       "      <td>Country 7</td>\n",
       "      <td>2</td>\n",
       "    </tr>\n",
       "    <tr>\n",
       "      <th>15</th>\n",
       "      <td>Country 8</td>\n",
       "      <td>1</td>\n",
       "    </tr>\n",
       "    <tr>\n",
       "      <th>16</th>\n",
       "      <td>Country 9</td>\n",
       "      <td>2</td>\n",
       "    </tr>\n",
       "    <tr>\n",
       "      <th>17</th>\n",
       "      <td>Unknown</td>\n",
       "      <td>1</td>\n",
       "    </tr>\n",
       "  </tbody>\n",
       "</table>\n",
       "</div>"
      ],
      "text/plain": [
       "       Country  Number of Vendors\n",
       "0    Country 1                  1\n",
       "1   Country 10                  1\n",
       "2   Country 11                  1\n",
       "3   Country 12                  9\n",
       "4   Country 13                  1\n",
       "5   Country 14                  1\n",
       "6   Country 15                  8\n",
       "7   Country 16                 13\n",
       "8   Country 17                 19\n",
       "9    Country 2                  1\n",
       "10   Country 3                  1\n",
       "11   Country 4                  7\n",
       "12   Country 5                  8\n",
       "13   Country 6                  1\n",
       "14   Country 7                  2\n",
       "15   Country 8                  1\n",
       "16   Country 9                  2\n",
       "17     Unknown                  1"
      ]
     },
     "execution_count": 4,
     "metadata": {},
     "output_type": "execute_result"
    }
   ],
   "source": [
    "filtered_data=calendar.groupby(['Country','Supplier'],as_index=False).agg({'Billable CE':'sum'})\n",
    "filtered_data=filtered_data.groupby('Country',as_index=False).count()\n",
    "filtered_data=filtered_data[['Country','Supplier']]\n",
    "filtered_data.columns=['Country','Number of Vendors']\n",
    "filtered_data"
   ]
  },
  {
   "cell_type": "markdown",
   "metadata": {},
   "source": [
    "## c) What Percentage of the total projects working with Java Files?"
   ]
  },
  {
   "cell_type": "code",
   "execution_count": 5,
   "metadata": {},
   "outputs": [
    {
     "name": "stdout",
     "output_type": "stream",
     "text": [
      "Percentage of projects using Java Files is 57.831325301204814 %\n"
     ]
    }
   ],
   "source": [
    "#Let's find the total number of projects\n",
    "tot_projects=filetype['Project'].unique().size\n",
    "filtered_data=filetype[filetype['FileType']=='js']\n",
    "filtered_data=filtered_data.groupby(['Project','FileType'],as_index=False).agg({'Actual CE':'sum'})\n",
    "project_js_files=filtered_data.shape[0]\n",
    "#To calculate percentage of projects using Java Files, use the project_js_files and\n",
    "#tot_projects\n",
    "\n",
    "perc=(project_js_files/tot_projects)*100\n",
    "print('Percentage of projects using Java Files is',perc,'%')"
   ]
  },
  {
   "cell_type": "markdown",
   "metadata": {},
   "source": [
    "## d)  What is the average number of Developers in all the repositories and What is the average number of Repositories in all the Projects?\n",
    "\n",
    "\n"
   ]
  },
  {
   "cell_type": "markdown",
   "metadata": {},
   "source": [
    "i) First let's find out the average number of Developers in all the repositories."
   ]
  },
  {
   "cell_type": "code",
   "execution_count": 40,
   "metadata": {},
   "outputs": [
    {
     "data": {
      "text/plain": [
       "103.48709880427943"
      ]
     },
     "execution_count": 40,
     "metadata": {},
     "output_type": "execute_result"
    }
   ],
   "source": [
    "calendar=pd.read_csv('Calendar.csv')\n",
    "filtered_data= calendar.groupby(['InfraId'],as_index=False).agg({'Developer ID':'count'})\n",
    "filtered_data.columns=['Repository ID','Number of developers']\n",
    "avg_number_dev=filtered_data['Number of developers'].mean()\n",
    "avg_number_dev"
   ]
  },
  {
   "cell_type": "markdown",
   "metadata": {},
   "source": [
    "ii) Now lets find out the average number of repositories in all the projects"
   ]
  },
  {
   "cell_type": "code",
   "execution_count": 47,
   "metadata": {},
   "outputs": [
    {
     "data": {
      "text/plain": [
       "21.367403314917127"
      ]
     },
     "execution_count": 47,
     "metadata": {},
     "output_type": "execute_result"
    }
   ],
   "source": [
    "universe=pd.read_csv('Universe.csv')\n",
    "filtered_data=universe.groupby(['Project'],as_index=False).agg({'InfraId':'count'})\n",
    "filtered_data.columns=['Project Name','Number of repositories']\n",
    "avg_number_repo=filtered_data['Number of repositories'].mean()\n",
    "avg_number_repo"
   ]
  },
  {
   "cell_type": "markdown",
   "metadata": {},
   "source": [
    "## e) Which are the Top 3 Suppliers in terms of Billable Coding Effort (CE) Delivered per developer?"
   ]
  },
  {
   "cell_type": "code",
   "execution_count": 17,
   "metadata": {
    "collapsed": true
   },
   "outputs": [],
   "source": [
    "filtered_data=calendar.groupby(['Supplier'],as_index=False).agg({'Billable CE':'sum'})\n",
    "filtered_data=filtered_data.sort_values(by=['Billable CE'], ascending=[False]).head(5)"
   ]
  },
  {
   "cell_type": "code",
   "execution_count": 18,
   "metadata": {},
   "outputs": [
    {
     "data": {
      "text/html": [
       "<div>\n",
       "<style>\n",
       "    .dataframe thead tr:only-child th {\n",
       "        text-align: right;\n",
       "    }\n",
       "\n",
       "    .dataframe thead th {\n",
       "        text-align: left;\n",
       "    }\n",
       "\n",
       "    .dataframe tbody tr th {\n",
       "        vertical-align: top;\n",
       "    }\n",
       "</style>\n",
       "<table border=\"1\" class=\"dataframe\">\n",
       "  <thead>\n",
       "    <tr style=\"text-align: right;\">\n",
       "      <th></th>\n",
       "      <th>Supplier</th>\n",
       "      <th>Billable CE</th>\n",
       "    </tr>\n",
       "  </thead>\n",
       "  <tbody>\n",
       "    <tr>\n",
       "      <th>0</th>\n",
       "      <td>Unknown</td>\n",
       "      <td>252586.57</td>\n",
       "    </tr>\n",
       "    <tr>\n",
       "      <th>1</th>\n",
       "      <td>Vendor-002</td>\n",
       "      <td>25639.91</td>\n",
       "    </tr>\n",
       "    <tr>\n",
       "      <th>3</th>\n",
       "      <td>Vendor-004</td>\n",
       "      <td>6942.37</td>\n",
       "    </tr>\n",
       "    <tr>\n",
       "      <th>2</th>\n",
       "      <td>Vendor-003</td>\n",
       "      <td>5132.16</td>\n",
       "    </tr>\n",
       "    <tr>\n",
       "      <th>4</th>\n",
       "      <td>Vendor-006</td>\n",
       "      <td>2851.28</td>\n",
       "    </tr>\n",
       "  </tbody>\n",
       "</table>\n",
       "</div>"
      ],
      "text/plain": [
       "     Supplier  Billable CE\n",
       "0     Unknown    252586.57\n",
       "1  Vendor-002     25639.91\n",
       "3  Vendor-004      6942.37\n",
       "2  Vendor-003      5132.16\n",
       "4  Vendor-006      2851.28"
      ]
     },
     "execution_count": 18,
     "metadata": {},
     "output_type": "execute_result"
    }
   ],
   "source": [
    "filtered_data"
   ]
  },
  {
   "cell_type": "code",
   "execution_count": 21,
   "metadata": {},
   "outputs": [
    {
     "data": {
      "image/png": "[encoded data removed]",
      "text/plain": [
       "<matplotlib.figure.Figure at 0x1504dba5f98>"
      ]
     },
     "metadata": {},
     "output_type": "display_data"
    }
   ],
   "source": [
    "plt.rcdefaults()\n",
    " \n",
    "Suppliers = ('Unknown', 'Vendor-002', 'Vendor-004', 'Vendor-003')\n",
    "y_pos = np.arange(len(Suppliers))\n",
    "Billable_CE = [252586.57,25639.91,6942.37,5132.16]\n",
    " \n",
    "plt.bar(y_pos, Billable_CE, align='center', alpha=0.5)\n",
    "plt.xticks(y_pos, Suppliers)\n",
    "plt.ylabel('Billable CE')\n",
    "plt.title('Suppliers')\n",
    " \n",
    "plt.show()"
   ]
  },
  {
   "cell_type": "markdown",
   "metadata": {},
   "source": [
    "## f) Which is the Project with a maximum number of Billable CE hours per day delivered per developer?\n",
    "\n",
    "\n",
    "\n"
   ]
  },
  {
   "cell_type": "code",
   "execution_count": 52,
   "metadata": {},
   "outputs": [
    {
     "data": {
      "text/html": [
       "<div>\n",
       "<style>\n",
       "    .dataframe thead tr:only-child th {\n",
       "        text-align: right;\n",
       "    }\n",
       "\n",
       "    .dataframe thead th {\n",
       "        text-align: left;\n",
       "    }\n",
       "\n",
       "    .dataframe tbody tr th {\n",
       "        vertical-align: top;\n",
       "    }\n",
       "</style>\n",
       "<table border=\"1\" class=\"dataframe\">\n",
       "  <thead>\n",
       "    <tr style=\"text-align: right;\">\n",
       "      <th></th>\n",
       "      <th>Project</th>\n",
       "      <th>Billable CE</th>\n",
       "    </tr>\n",
       "  </thead>\n",
       "  <tbody>\n",
       "    <tr>\n",
       "      <th>162</th>\n",
       "      <td>Project 91</td>\n",
       "      <td>18953.76</td>\n",
       "    </tr>\n",
       "  </tbody>\n",
       "</table>\n",
       "</div>"
      ],
      "text/plain": [
       "        Project  Billable CE\n",
       "162  Project 91     18953.76"
      ]
     },
     "execution_count": 52,
     "metadata": {},
     "output_type": "execute_result"
    }
   ],
   "source": [
    "calendar=pd.read_csv('Calendar.csv')\n",
    "filtered_data=calendar.groupby(['Project'],as_index=False).agg({'Billable CE':'sum'})\n",
    "filtered_data=filtered_data.sort_values(by=['Billable CE'], ascending=[False]).head(1)\n",
    "filtered_data"
   ]
  },
  {
   "cell_type": "markdown",
   "metadata": {},
   "source": [
    "## g)) What is the difference on the total Actual CE delivered between July and August in Country 17?"
   ]
  },
  {
   "cell_type": "code",
   "execution_count": 71,
   "metadata": {
    "collapsed": true
   },
   "outputs": [],
   "source": [
    "calendar=pd.read_csv('Calendar.csv')\n",
    "calendar['Date']=pd.to_datetime(calendar['Date'])\n",
    "filtered_data=calendar[(calendar['Date']>='2017-07-01')]\n",
    "filtered_data=filtered_data[filtered_data['Date']<='2017-07-31']\n",
    "filtered_data=filtered_data[filtered_data['Country']=='Country 17']\n",
    "Actual_CE_July=filtered_data['Actual CE'].sum()"
   ]
  },
  {
   "cell_type": "code",
   "execution_count": 72,
   "metadata": {},
   "outputs": [
    {
     "data": {
      "text/plain": [
       "19316.100000000002"
      ]
     },
     "execution_count": 72,
     "metadata": {},
     "output_type": "execute_result"
    }
   ],
   "source": [
    "Actual_CE_July"
   ]
  },
  {
   "cell_type": "code",
   "execution_count": 73,
   "metadata": {
    "collapsed": true
   },
   "outputs": [],
   "source": [
    "calendar=pd.read_csv('Calendar.csv')\n",
    "calendar['Date']=pd.to_datetime(calendar['Date'])\n",
    "filtered_data=calendar[(calendar['Date']>='2017-08-01')]\n",
    "filtered_data=filtered_data[filtered_data['Date']<='2017-08-31']\n",
    "filtered_data=filtered_data[filtered_data['Country']=='Country 17']\n",
    "Actual_CE_August=filtered_data['Actual CE'].sum()"
   ]
  },
  {
   "cell_type": "code",
   "execution_count": 74,
   "metadata": {},
   "outputs": [
    {
     "data": {
      "text/plain": [
       "17489.239999999965"
      ]
     },
     "execution_count": 74,
     "metadata": {},
     "output_type": "execute_result"
    }
   ],
   "source": [
    "Actual_CE_August"
   ]
  },
  {
   "cell_type": "markdown",
   "metadata": {},
   "source": [
    "Difference between August's Actual CE and July's Actual_CE"
   ]
  },
  {
   "cell_type": "code",
   "execution_count": 75,
   "metadata": {},
   "outputs": [
    {
     "name": "stdout",
     "output_type": "stream",
     "text": [
      "1826.860000000037\n"
     ]
    }
   ],
   "source": [
    "print(Actual_CE_July-Actual_CE_August)"
   ]
  },
  {
   "cell_type": "markdown",
   "metadata": {},
   "source": [
    "## h) What is the total number of developers in each one of the last 3 months for Vendor-002?"
   ]
  },
  {
   "cell_type": "code",
   "execution_count": 99,
   "metadata": {
    "collapsed": true
   },
   "outputs": [],
   "source": [
    "calendar=pd.read_csv('Calendar.csv')"
   ]
  },
  {
   "cell_type": "markdown",
   "metadata": {
    "collapsed": true
   },
   "source": [
    "Let's filter out the data for only Vendor-002"
   ]
  },
  {
   "cell_type": "code",
   "execution_count": 100,
   "metadata": {
    "collapsed": true
   },
   "outputs": [],
   "source": [
    "filtered_data_vendor002=calendar[calendar['Supplier']=='Vendor-002']"
   ]
  },
  {
   "cell_type": "code",
   "execution_count": 101,
   "metadata": {
    "collapsed": true
   },
   "outputs": [],
   "source": [
    "filtered_data_vendor002['Date']=pd.to_datetime(filtered_data_vendor002['Date'])"
   ]
  },
  {
   "cell_type": "markdown",
   "metadata": {},
   "source": [
    "Let's find max date so that we can filter date based on last 3 months"
   ]
  },
  {
   "cell_type": "code",
   "execution_count": 102,
   "metadata": {},
   "outputs": [
    {
     "data": {
      "text/plain": [
       "Timestamp('2017-12-08 00:00:00')"
      ]
     },
     "execution_count": 102,
     "metadata": {},
     "output_type": "execute_result"
    }
   ],
   "source": [
    "filtered_data_vendor002['Date'].max()"
   ]
  },
  {
   "cell_type": "code",
   "execution_count": 103,
   "metadata": {
    "collapsed": true
   },
   "outputs": [],
   "source": [
    "filtered_data=filtered_data_vendor002[(filtered_data_vendor002['Date']>='2017-06-01') & (filtered_data_vendor002['Date']<='2017-08-31') ]"
   ]
  },
  {
   "cell_type": "code",
   "execution_count": 104,
   "metadata": {
    "collapsed": true
   },
   "outputs": [],
   "source": [
    "filtered_data=filtered_data.groupby(['Developer ID'],as_index=False).agg({'Billable CE':'sum'})"
   ]
  },
  {
   "cell_type": "code",
   "execution_count": 116,
   "metadata": {},
   "outputs": [
    {
     "data": {
      "text/html": [
       "<div>\n",
       "<style>\n",
       "    .dataframe thead tr:only-child th {\n",
       "        text-align: right;\n",
       "    }\n",
       "\n",
       "    .dataframe thead th {\n",
       "        text-align: left;\n",
       "    }\n",
       "\n",
       "    .dataframe tbody tr th {\n",
       "        vertical-align: top;\n",
       "    }\n",
       "</style>\n",
       "<table border=\"1\" class=\"dataframe\">\n",
       "  <thead>\n",
       "    <tr style=\"text-align: right;\">\n",
       "      <th></th>\n",
       "      <th>Developer ID</th>\n",
       "    </tr>\n",
       "  </thead>\n",
       "  <tbody>\n",
       "    <tr>\n",
       "      <th>0</th>\n",
       "      <td>Developer 75684</td>\n",
       "    </tr>\n",
       "    <tr>\n",
       "      <th>1</th>\n",
       "      <td>Developer 75695</td>\n",
       "    </tr>\n",
       "    <tr>\n",
       "      <th>2</th>\n",
       "      <td>Developer 75696</td>\n",
       "    </tr>\n",
       "    <tr>\n",
       "      <th>3</th>\n",
       "      <td>Developer 75724</td>\n",
       "    </tr>\n",
       "    <tr>\n",
       "      <th>4</th>\n",
       "      <td>Developer 75726</td>\n",
       "    </tr>\n",
       "  </tbody>\n",
       "</table>\n",
       "</div>"
      ],
      "text/plain": [
       "      Developer ID\n",
       "0  Developer 75684\n",
       "1  Developer 75695\n",
       "2  Developer 75696\n",
       "3  Developer 75724\n",
       "4  Developer 75726"
      ]
     },
     "execution_count": 116,
     "metadata": {},
     "output_type": "execute_result"
    }
   ],
   "source": [
    "pd.DataFrame(filtered_data['Developer ID']).head()"
   ]
  },
  {
   "cell_type": "code",
   "execution_count": 114,
   "metadata": {},
   "outputs": [
    {
     "name": "stdout",
     "output_type": "stream",
     "text": [
      "Total number of developers past 3 months from June to July are: 366\n"
     ]
    }
   ],
   "source": [
    "print('Total number of developers past 3 months from June to July are:',filtered_data.shape[0])"
   ]
  }
 ],
 "metadata": {
  "kernelspec": {
   "display_name": "Python 3",
   "language": "python",
   "name": "python3"
  },
  "language_info": {
   "codemirror_mode": {
    "name": "ipython",
    "version": 3
   },
   "file_extension": ".py",
   "mimetype": "text/x-python",
   "name": "python",
   "nbconvert_exporter": "python",
   "pygments_lexer": "ipython3",
   "version": "3.6.1"
  }
 },
 "nbformat": 4,
 "nbformat_minor": 2
}
